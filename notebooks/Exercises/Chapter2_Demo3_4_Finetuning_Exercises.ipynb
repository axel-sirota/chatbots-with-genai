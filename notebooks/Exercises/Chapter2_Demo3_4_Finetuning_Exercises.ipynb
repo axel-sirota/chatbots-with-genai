{
  "nbformat": 4,
  "nbformat_minor": 0,
  "metadata": {
    "colab": {
      "provenance": [],
      "machine_shape": "hm",
      "gpuType": "A100"
    },
    "kernelspec": {
      "name": "python3",
      "display_name": "Python 3"
    },
    "language_info": {
      "name": "python"
    },
    "accelerator": "GPU"
  },
  "cells": [
    {
      "cell_type": "code",
      "execution_count": null,
      "metadata": {
        "id": "2xi8Ajvj8aWL"
      },
      "outputs": [],
      "source": [
        "# install peft and torch and datasets\n",
        "!pip install requests transformers"
      ]
    },
    {
      "cell_type": "code",
      "source": [
        "import torch\n",
        "\n",
        "# 1. Load the translation dataset (\"opus_books\", \"en-fr\")\n",
        "dataset = None\n"
      ],
      "metadata": {
        "id": "f2VEo7Zh8iEB"
      },
      "execution_count": null,
      "outputs": []
    },
    {
      "cell_type": "code",
      "source": [
        "\n",
        "# 2. Load the tokenizer from the FLAN-T5-large checkpoint\n",
        "tokenizer = None\n",
        "\n",
        "# 3. Define the preprocessing function that now also computes decoder inputs and attention masks.\n",
        "prefix = \"translate English to French: \"\n",
        "\n",
        "# Custom implementation of shift_tokens_right\n",
        "def shift_tokens_right(input_ids: torch.Tensor, pad_token_id: int, decoder_start_token_id: int):\n",
        "    \"\"\"\n",
        "    Shift input ids one token to the right, placing the decoder_start_token_id at the beginning.\n",
        "    Replace any -100 values with pad_token_id.\n",
        "    \"\"\"\n",
        "    shifted_input_ids = input_ids.new_zeros(input_ids.shape)\n",
        "    shifted_input_ids[:, 0] = decoder_start_token_id\n",
        "    shifted_input_ids[:, 1:] = input_ids[:, :-1].clone()\n",
        "    # Replace -100 values with pad_token_id\n",
        "    shifted_input_ids.masked_fill_(shifted_input_ids == -100, pad_token_id)\n",
        "    return shifted_input_ids\n",
        "\n",
        "def preprocess_function(examples):\n",
        "   None\n",
        "\n",
        "# Map the preprocessing function over the datasets (batched mode)\n",
        "train_dataset = None\n",
        "eval_dataset = None\n"
      ],
      "metadata": {
        "id": "JHKrf1XU9TmW"
      },
      "execution_count": null,
      "outputs": []
    },
    {
      "cell_type": "code",
      "source": [
        "\n",
        "# 4. Load the FLAN-T5-large model using AutoModel and wrap it with PEFT LoRA\n",
        "model = None\n",
        "lora_config = None\n",
        "model = get_peft_model(model, lora_config)\n",
        "print(\"Model wrapped with LoRA configuration.\")\n",
        "\n",
        "# 5. Prepare the data collator (for dynamic padding)\n",
        "data_collator = DataCollatorForSeq2Seq(tokenizer, model=model)\n"
      ],
      "metadata": {
        "id": "vZE2xJEu9YT3"
      },
      "execution_count": null,
      "outputs": []
    },
    {
      "cell_type": "code",
      "source": [
        "from transformers import TrainerCallback\n",
        "# Custom callback to print trainable parameters at training start.\n",
        "class PrintTrainableParamsCallback(TrainerCallback):\n",
        "    def on_train_begin(self, args, state, control, **kwargs):\n",
        "        model = kwargs.get(\"model\")\n",
        "        total_params = sum(p.numel() for p in model.parameters())\n",
        "        trainable_params = sum(p.numel() for p in model.parameters() if p.requires_grad)\n",
        "        print(f\"Total parameters: {total_params}\")\n",
        "        print(f\"Trainable parameters: {trainable_params}\")\n",
        "        return control\n"
      ],
      "metadata": {
        "id": "AOytP_Os9vul"
      },
      "execution_count": null,
      "outputs": []
    },
    {
      "cell_type": "code",
      "source": [
        "# 6. Set up training arguments\n",
        "training_args =\n",
        "\n",
        "# 7. Initialize the Trainer with the custom callback and using processing_class instead of tokenizer.\n",
        "trainer =\n",
        "\n",
        "\n",
        "# 8. Fine-tune the model\n",
        "print(\"Starting fine-tuning...\")\n",
        "# trainer.train()\n",
        "print(\"Fine-tuning complete.\")\n",
        "\n",
        "# Optionally save the fine-tuned model (including LoRA adapters)\n",
        "model.save_pretrained(\"./flan_t5_finetuned_lora\")\n",
        "tokenizer.save_pretrained(\"./flan_t5_finetuned_lora\")\n"
      ],
      "metadata": {
        "id": "b2CZKikv9fDC"
      },
      "execution_count": null,
      "outputs": []
    },
    {
      "cell_type": "code",
      "source": [
        "\n",
        "# 9. Define a helper function for translation using the fine-tuned model\n",
        "def translate_text(text):\n",
        "    prompt = prefix + text\n",
        "    inputs = tokenizer(prompt, return_tensors=\"pt\").to(model.device)\n",
        "    outputs = model.generate(**inputs, max_length=128, num_beams=4)\n",
        "    translation = tokenizer.decode(outputs[0], skip_special_tokens=True)\n",
        "    return translation.replace(prefix, \"\").strip()\n",
        "\n",
        "# 10. Chatbot loop: send translation prompts and get responses\n",
        "if __name__ == \"__main__\":\n",
        "    print(\"\\nTranslation Chatbot (type 'exit' to quit)\")\n",
        "    while True:\n",
        "        user_input = input(\"You: \").strip()\n",
        "        if user_input.lower() == \"exit\":\n",
        "            break\n",
        "        translation = translate_text(user_input)\n",
        "        print(\"Bot (French Translation):\", translation)\n"
      ],
      "metadata": {
        "id": "Xvf452xB9gan"
      },
      "execution_count": null,
      "outputs": []
    },
    {
      "cell_type": "code",
      "source": [
        "# prompt: make a zip file out of the files flan_t5_finetuned_opus_books_lora and download to local computer\n",
        "\n",
        "!zip -r flan_t5_finetuned_opus_books_lora.zip flan_t5_finetuned_opus_books_lora\n",
        "!ls\n",
        "\n",
        "#To download the file, you can use the following code in a code cell:\n",
        "#from google.colab import files\n",
        "#files.download('flan_t5_finetuned_opus_books_lora.zip')\n"
      ],
      "metadata": {
        "id": "0TM4B6XcJWlV"
      },
      "execution_count": null,
      "outputs": []
    },
    {
      "cell_type": "code",
      "source": [],
      "metadata": {
        "id": "9x2orZXPJdgd"
      },
      "execution_count": null,
      "outputs": []
    }
  ]
}