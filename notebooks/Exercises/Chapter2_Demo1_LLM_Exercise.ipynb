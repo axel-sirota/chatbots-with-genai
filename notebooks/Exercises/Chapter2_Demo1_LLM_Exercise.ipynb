{
  "nbformat": 4,
  "nbformat_minor": 0,
  "metadata": {
    "colab": {
      "provenance": []
    },
    "kernelspec": {
      "name": "python3",
      "display_name": "Python 3"
    },
    "language_info": {
      "name": "python"
    }
  },
  "cells": [
    {
      "cell_type": "code",
      "source": [
        "!pip install flask requests transformers"
      ],
      "metadata": {
        "id": "Jk8DuEmNO2r9"
      },
      "execution_count": null,
      "outputs": []
    },
    {
      "cell_type": "code",
      "execution_count": null,
      "metadata": {
        "id": "xBowNG8NOA_-"
      },
      "outputs": [],
      "source": [
        "%%writefile app.py\n",
        "from flask import Flask, request, jsonify\n",
        "from transformers import pipeline\n",
        "\n",
        "app = Flask(__name__)\n",
        "\n",
        "# Pre-made responses\n",
        "responses = {\n",
        "    \"hello\": \"Hi there! How can I help you today?\",\n",
        "    \"bye\": \"Goodbye! Have a nice day.\",\n",
        "    \"default\": \"I'm not sure how to respond to that.\"\n",
        "}\n",
        "\n",
        "# Initialize sentiment analysis pipelines for two different models\n",
        "\n",
        "\n",
        "def analyze_sentiment(message, model=\"distil\"):\n",
        "    \"\"\"\n",
        "    Analyze the sentiment of the message using the selected model.\n",
        "\n",
        "    Args:\n",
        "        message (str): The text to analyze.\n",
        "        model (str): 'distil' or 'nlptown'\n",
        "\n",
        "    Returns:\n",
        "        dict: A dictionary with the sentiment analysis result.\n",
        "    \"\"\"\n",
        "\n",
        "\n",
        "@app.route('/chat', methods=['POST'])\n",
        "def chat():\n",
        "    data = request.get_json()\n",
        "    user_message = data.get(\"message\", \"\")\n",
        "    # Add model chopice\n",
        "\n",
        "    sentiment_result = None\n",
        "\n",
        "    # Decide if the sentiment is negative (i.e., angry)\n",
        "    angry = False\n",
        "\n",
        "    if angry:\n",
        "        reply = \"I sense some anger in your words. Let's try to keep the conversation calm.\"\n",
        "    else:\n",
        "        # Use basic rule-based matching for greetings and goodbyes\n",
        "        if \"hello\" in user_message.lower():\n",
        "            reply = responses.get(\"hello\")\n",
        "        elif \"bye\" in user_message.lower():\n",
        "            reply = responses.get(\"bye\")\n",
        "        else:\n",
        "            reply = responses.get(\"default\")\n",
        "\n",
        "    return jsonify({\n",
        "        \"reply\": reply,\n",
        "        \"sentiment_analysis\": sentiment_result\n",
        "    })\n",
        "\n",
        "if __name__ == '__main__':\n",
        "    # The server will run on 0.0.0.0:5000\n",
        "    app.run(host='0.0.0.0', port=5000)\n"
      ]
    },
    {
      "cell_type": "code",
      "source": [
        "!nohup python app.py &\n"
      ],
      "metadata": {
        "id": "olBMD2oNO6RV"
      },
      "execution_count": null,
      "outputs": []
    },
    {
      "cell_type": "code",
      "source": [
        "import socket\n",
        "import time\n",
        "\n",
        "def check_port(host, port):\n",
        "  port_closed = True\n",
        "  while port_closed:\n",
        "    with socket.socket(socket.AF_INET, socket.SOCK_STREAM) as sock:\n",
        "        try:\n",
        "            sock.connect((host, port))\n",
        "            print(f\"Port {port} on {host} is open!\")\n",
        "            port_closed = False\n",
        "        except ConnectionRefusedError:\n",
        "            print(f\"Port {port} on {host} is closed.\")\n",
        "            time.sleep(0.5)\n",
        "\n",
        "\n",
        "check_port(\"127.0.0.1\", 5000)"
      ],
      "metadata": {
        "id": "-SpKLpDJO-bR"
      },
      "execution_count": null,
      "outputs": []
    },
    {
      "cell_type": "code",
      "source": [
        "import requests\n",
        "\n",
        "url = \"http://127.0.0.1:5000/chat\"\n",
        "\n",
        "# Test messages along with a choice of sentiment model.\n",
        "# Use \"distil\" for the distilbert model and \"nlptown\" for the nlptown model.\n",
        "test_messages = [\n",
        "    {\"message\": \"Hello there!\", \"model\": \"distil\"},\n",
        "    {\"message\": \"I hate this so much!\", \"model\": \"distil\"},\n",
        "    {\"message\": \"This is absolutely terrible!\", \"model\": \"nlptown\"},\n",
        "    {\"message\": \"Goodbye\", \"model\": \"nlptown\"}\n",
        "]\n",
        "\n",
        "for payload in test_messages:\n",
        "    response = requests.post(url, json=payload)\n",
        "    if response.ok:\n",
        "        result = response.json()\n",
        "        print(f\"User: {payload['message']} (Model: {payload['model']})\")\n",
        "        print(f\"Chatbot: {result['reply']}\")\n",
        "        print(f\"Sentiment: {result['sentiment_analysis']}\")\n",
        "        print(\"-\" * 50)\n",
        "    else:\n",
        "        print(\"Failed to connect to the chatbot service.\")\n"
      ],
      "metadata": {
        "id": "l6BKhWp5PGda"
      },
      "execution_count": null,
      "outputs": []
    },
    {
      "cell_type": "code",
      "source": [],
      "metadata": {
        "id": "lu5k-6DVPTQ8"
      },
      "execution_count": null,
      "outputs": []
    }
  ]
}