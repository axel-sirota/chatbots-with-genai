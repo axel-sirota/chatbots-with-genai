{
  "nbformat": 4,
  "nbformat_minor": 0,
  "metadata": {
    "colab": {
      "provenance": [],
      "machine_shape": "hm",
      "gpuType": "A100"
    },
    "kernelspec": {
      "name": "python3",
      "display_name": "Python 3"
    },
    "language_info": {
      "name": "python"
    },
    "accelerator": "GPU"
  },
  "cells": [
    {
      "cell_type": "code",
      "source": [
        "!pip install flask requests transformers"
      ],
      "metadata": {
        "id": "Jk8DuEmNO2r9"
      },
      "execution_count": null,
      "outputs": []
    },
    {
      "cell_type": "code",
      "execution_count": null,
      "metadata": {
        "id": "xBowNG8NOA_-"
      },
      "outputs": [],
      "source": [
        "%%writefile app.py\n",
        "from flask import Flask, request, jsonify\n",
        "from transformers import pipeline\n",
        "\n",
        "app = Flask(__name__)\n",
        "\n",
        "# Initialize sentiment analysis pipeline with distilbert\n",
        "sentiment_pipeline = pipeline(\"sentiment-analysis\", model=\"distilbert-base-uncased-finetuned-sst-2-english\")\n",
        "\n",
        "# Initialize text generation pipeline with google/flan-t5-large.\n",
        "# Note: T5 is a text-to-text model so we use the \"text2text-generation\" pipeline.\n",
        "\n",
        "def check_sentiment(message):\n",
        "    result = sentiment_pipeline(message)\n",
        "    return result[0]  # e.g., {'label': 'NEGATIVE', 'score': 0.99}\n",
        "\n",
        "@app.route('/chat', methods=['POST'])\n",
        "def chat():\n",
        "    data = request.get_json()\n",
        "    user_message = data.get(\"message\", \"\").strip()\n",
        "\n",
        "    # Check sentiment using the distilbert model\n",
        "    sentiment_result = check_sentiment(user_message)\n",
        "\n",
        "    # If negative sentiment is detected, return a safe response.\n",
        "    if sentiment_result['label'] == \"NEGATIVE\":\n",
        "        return jsonify({\n",
        "            \"reply\": \"I sense some anger in your words. Let's try to keep the conversation calm.\",\n",
        "            \"sentiment_analysis\": sentiment_result\n",
        "        })\n",
        "\n",
        "    # Build a prompt that includes the conversation history.\n",
        "    # For T5, we provide a text-to-text prompt.\n",
        "    prompt = \"\"\"\n",
        "    \"\"\"\n",
        "\n",
        "    # Generate a response using google/flan-t5-large\n",
        "    full_text = None\n",
        "\n",
        "    return jsonify({\n",
        "        \"reply\": full_text,\n",
        "        \"sentiment_analysis\": sentiment_result,\n",
        "    })\n",
        "\n",
        "if __name__ == '__main__':\n",
        "    # The server will run on 0.0.0.0:5000\n",
        "    app.run(host='0.0.0.0', port=5000)\n"
      ]
    },
    {
      "cell_type": "code",
      "source": [
        "!nohup python app.py &\n"
      ],
      "metadata": {
        "id": "olBMD2oNO6RV"
      },
      "execution_count": null,
      "outputs": []
    },
    {
      "cell_type": "code",
      "source": [
        "import socket\n",
        "import time\n",
        "\n",
        "tries = 0\n",
        "\n",
        "def print_last_lines(filename, num_lines=10):\n",
        "    try:\n",
        "        with open(filename, 'r') as f:\n",
        "            lines = f.readlines()\n",
        "            total_lines = len(lines)\n",
        "            start_index = max(0, total_lines - num_lines)\n",
        "            for line in lines[start_index:]:\n",
        "                print(line, end=\"\")\n",
        "    except FileNotFoundError:\n",
        "        print(f\"Error: File '{filename}' not found.\")\n",
        "\n",
        "def check_port(host, port):\n",
        "  port_closed = True\n",
        "  time.sleep(1)\n",
        "  tries = 0\n",
        "  while port_closed and tries < 15:\n",
        "    with socket.socket(socket.AF_INET, socket.SOCK_STREAM) as sock:\n",
        "        try:\n",
        "            sock.connect((host, port))\n",
        "            print(f\"Port {port} on {host} is open!\")\n",
        "            port_closed = False\n",
        "        except ConnectionRefusedError:\n",
        "            print(f\"Port {port} on {host} is closed.\")\n",
        "            print_last_lines('nohup.out')\n",
        "            tries += 1\n",
        "            time.sleep(5)\n",
        "\n",
        "\n",
        "check_port(\"127.0.0.1\", 5000)"
      ],
      "metadata": {
        "id": "-SpKLpDJO-bR"
      },
      "execution_count": null,
      "outputs": []
    },
    {
      "cell_type": "code",
      "source": [
        "import requests\n",
        "\n",
        "url = \"http://127.0.0.1:5000/chat\"\n",
        "\n",
        "# Test messages\n",
        "messages = [\n",
        "\n",
        "]\n",
        "\n",
        "for msg in messages:\n",
        "    payload = {\"message\": msg}\n",
        "    response = requests.post(url, json=payload)\n",
        "    if response.ok:\n",
        "        result = response.json()\n",
        "        print(f\"User: {msg}\")\n",
        "        print(\"Chatbot:\", result.get(\"reply\"))\n",
        "        print(\"Sentiment Analysis:\", result.get(\"sentiment_analysis\"))\n",
        "        if \"conversation_history\" in result:\n",
        "            print(\"Conversation History:\")\n",
        "            for line in result[\"conversation_history\"]:\n",
        "                print(\"   \" + line)\n",
        "        print(\"-\" * 50)\n",
        "    else:\n",
        "        print(\"Failed to connect to the chatbot service.\")\n"
      ],
      "metadata": {
        "id": "l6BKhWp5PGda"
      },
      "execution_count": null,
      "outputs": []
    },
    {
      "cell_type": "code",
      "source": [],
      "metadata": {
        "id": "lu5k-6DVPTQ8"
      },
      "execution_count": null,
      "outputs": []
    }
  ]
}